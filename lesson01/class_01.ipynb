{
 "cells": [
  {
   "cell_type": "markdown",
   "id": "d7355a71-1f99-4649-b553-261fb89d339d",
   "metadata": {},
   "source": [
    "# пример со словарем"
   ]
  },
  {
   "cell_type": "code",
   "execution_count": 2,
   "id": "53c78dfd-91af-40cf-8cf1-6387bef08659",
   "metadata": {},
   "outputs": [],
   "source": [
    "d = {1: 11, 2: 22, 3: 33}"
   ]
  },
  {
   "cell_type": "code",
   "execution_count": 3,
   "id": "f756ae0a-6d01-4178-81d9-ff6d2d43583b",
   "metadata": {},
   "outputs": [],
   "source": [
    "d[\"str\"] = [1, 2, 3]"
   ]
  },
  {
   "cell_type": "code",
   "execution_count": 4,
   "id": "0386bc7c-d119-494e-8ca3-505128d5a4e8",
   "metadata": {},
   "outputs": [
    {
     "data": {
      "text/plain": [
       "{1: 11, 2: 22, 3: 33, 'str': [1, 2, 3]}"
      ]
     },
     "execution_count": 4,
     "metadata": {},
     "output_type": "execute_result"
    }
   ],
   "source": [
    "d"
   ]
  },
  {
   "cell_type": "code",
   "execution_count": 5,
   "id": "09b1586b-1f68-4652-ae24-1d9124298d2f",
   "metadata": {},
   "outputs": [],
   "source": [
    "d[(4, 5)] = \"45\""
   ]
  },
  {
   "cell_type": "code",
   "execution_count": 6,
   "id": "568f2586-8012-4456-afcf-3ff64b362844",
   "metadata": {},
   "outputs": [
    {
     "data": {
      "text/plain": [
       "{1: 11, 2: 22, 3: 33, 'str': [1, 2, 3], (4, 5): '45'}"
      ]
     },
     "execution_count": 6,
     "metadata": {},
     "output_type": "execute_result"
    }
   ],
   "source": [
    "d"
   ]
  },
  {
   "cell_type": "code",
   "execution_count": 7,
   "id": "58f8cc37-657c-445a-8213-57d36d858e41",
   "metadata": {},
   "outputs": [],
   "source": [
    "tup = (4, 5, 10, [11, 12])"
   ]
  },
  {
   "cell_type": "code",
   "execution_count": 8,
   "id": "adf0dc8e-7e67-463c-9929-856d903f9bd1",
   "metadata": {},
   "outputs": [
    {
     "ename": "TypeError",
     "evalue": "unhashable type: 'list'",
     "output_type": "error",
     "traceback": [
      "\u001b[0;31m---------------------------------------------------------------------------\u001b[0m",
      "\u001b[0;31mTypeError\u001b[0m                                 Traceback (most recent call last)",
      "Cell \u001b[0;32mIn[8], line 1\u001b[0m\n\u001b[0;32m----> 1\u001b[0m \u001b[43md\u001b[49m\u001b[43m[\u001b[49m\u001b[43mtup\u001b[49m\u001b[43m]\u001b[49m \u001b[38;5;241m=\u001b[39m \u001b[38;5;124m\"\u001b[39m\u001b[38;5;124mnew_tup\u001b[39m\u001b[38;5;124m\"\u001b[39m\n",
      "\u001b[0;31mTypeError\u001b[0m: unhashable type: 'list'"
     ]
    }
   ],
   "source": [
    "d[tup] = \"new_tup\""
   ]
  },
  {
   "cell_type": "code",
   "execution_count": 10,
   "id": "973e3f3c-f79e-45c0-bcfc-9c28d37d6930",
   "metadata": {},
   "outputs": [
    {
     "ename": "TypeError",
     "evalue": "'tuple' object does not support item assignment",
     "output_type": "error",
     "traceback": [
      "\u001b[0;31m---------------------------------------------------------------------------\u001b[0m",
      "\u001b[0;31mTypeError\u001b[0m                                 Traceback (most recent call last)",
      "Cell \u001b[0;32mIn[10], line 1\u001b[0m\n\u001b[0;32m----> 1\u001b[0m \u001b[43mtup\u001b[49m\u001b[43m[\u001b[49m\u001b[38;5;241;43m0\u001b[39;49m\u001b[43m]\u001b[49m \u001b[38;5;241m=\u001b[39m \u001b[38;5;241m10\u001b[39m\n",
      "\u001b[0;31mTypeError\u001b[0m: 'tuple' object does not support item assignment"
     ]
    }
   ],
   "source": [
    "tup[0] = 10"
   ]
  },
  {
   "cell_type": "code",
   "execution_count": 12,
   "id": "6f11ae4a-983e-4fb2-90c2-ec7253cc95a2",
   "metadata": {},
   "outputs": [],
   "source": [
    "tup[3].append(13)"
   ]
  },
  {
   "cell_type": "code",
   "execution_count": 13,
   "id": "6d40561c-64fd-4ed8-9ff5-d8c6d8e750c8",
   "metadata": {},
   "outputs": [
    {
     "data": {
      "text/plain": [
       "(4, 5, 10, [11, 12, 13])"
      ]
     },
     "execution_count": 13,
     "metadata": {},
     "output_type": "execute_result"
    }
   ],
   "source": [
    "tup"
   ]
  },
  {
   "cell_type": "code",
   "execution_count": 16,
   "id": "ec158834-718d-4b58-935f-eaec47f1840f",
   "metadata": {},
   "outputs": [],
   "source": [
    "class User:\n",
    "    pass\n",
    "\n",
    "\n",
    "class User2:\n",
    "    42"
   ]
  },
  {
   "cell_type": "code",
   "execution_count": 17,
   "id": "28e8fd6c-a723-434b-ae06-181321b985f2",
   "metadata": {},
   "outputs": [],
   "source": [
    "d[User()] = User2()"
   ]
  },
  {
   "cell_type": "code",
   "execution_count": 21,
   "id": "7b26d726-a806-4f05-b628-13587edfbb73",
   "metadata": {},
   "outputs": [
    {
     "data": {
      "text/plain": [
       "(286708404, 20, 3307897951569694055)"
      ]
     },
     "execution_count": 21,
     "metadata": {},
     "output_type": "execute_result"
    }
   ],
   "source": [
    "hash(User()), hash(20), hash(\"20\")"
   ]
  },
  {
   "cell_type": "code",
   "execution_count": 22,
   "id": "66ccd728-74dd-4ba4-9e21-d667573421bc",
   "metadata": {},
   "outputs": [
    {
     "ename": "TypeError",
     "evalue": "unhashable type: 'list'",
     "output_type": "error",
     "traceback": [
      "\u001b[0;31m---------------------------------------------------------------------------\u001b[0m",
      "\u001b[0;31mTypeError\u001b[0m                                 Traceback (most recent call last)",
      "Cell \u001b[0;32mIn[22], line 1\u001b[0m\n\u001b[0;32m----> 1\u001b[0m \u001b[38;5;28;43mhash\u001b[39;49m\u001b[43m(\u001b[49m\u001b[43m[\u001b[49m\u001b[43m]\u001b[49m\u001b[43m)\u001b[49m\n",
      "\u001b[0;31mTypeError\u001b[0m: unhashable type: 'list'"
     ]
    }
   ],
   "source": [
    "hash([])"
   ]
  },
  {
   "cell_type": "code",
   "execution_count": null,
   "id": "2d6ee8bd-49f7-4d65-bb2e-504f3952dd1b",
   "metadata": {},
   "outputs": [],
   "source": []
  },
  {
   "cell_type": "code",
   "execution_count": null,
   "id": "72bb321a-fbca-4c43-8489-f3b5d7ec5da9",
   "metadata": {},
   "outputs": [],
   "source": []
  },
  {
   "cell_type": "code",
   "execution_count": null,
   "id": "617fc334-6e22-4668-80ec-c259c81eb454",
   "metadata": {},
   "outputs": [],
   "source": []
  },
  {
   "cell_type": "markdown",
   "id": "bf8e808d-8100-4eef-9ece-4b343fb11c7e",
   "metadata": {},
   "source": [
    "# распаковка enumerate"
   ]
  },
  {
   "cell_type": "code",
   "execution_count": 23,
   "id": "521ad178-df50-406f-b0b3-5b7850f80f49",
   "metadata": {},
   "outputs": [
    {
     "data": {
      "text/plain": [
       "{1: 11,\n",
       " 2: 22,\n",
       " 3: 33,\n",
       " 'str': [1, 2, 3],\n",
       " (4, 5): '45',\n",
       " <__main__.User at 0x1116d1850>: <__main__.User2 at 0x1116d25d0>}"
      ]
     },
     "execution_count": 23,
     "metadata": {},
     "output_type": "execute_result"
    }
   ],
   "source": [
    "d"
   ]
  },
  {
   "cell_type": "code",
   "execution_count": 24,
   "id": "4dfd84f6-d627-438a-bf02-705cc1b39b04",
   "metadata": {},
   "outputs": [
    {
     "name": "stdout",
     "output_type": "stream",
     "text": [
      "1\n",
      "2\n",
      "3\n",
      "str\n",
      "(4, 5)\n",
      "<__main__.User object at 0x1116d1850>\n"
     ]
    }
   ],
   "source": [
    "for x in d:\n",
    "    print(x)"
   ]
  },
  {
   "cell_type": "code",
   "execution_count": 25,
   "id": "7c8c393f-273f-4107-a8d7-b0b4cdf2b3d6",
   "metadata": {},
   "outputs": [
    {
     "name": "stdout",
     "output_type": "stream",
     "text": [
      "(1, 11)\n",
      "(2, 22)\n",
      "(3, 33)\n",
      "('str', [1, 2, 3])\n",
      "((4, 5), '45')\n",
      "(<__main__.User object at 0x1116d1850>, <__main__.User2 object at 0x1116d25d0>)\n"
     ]
    }
   ],
   "source": [
    "for x in d.items():\n",
    "    print(x)"
   ]
  },
  {
   "cell_type": "code",
   "execution_count": 26,
   "id": "f03119f6-5740-49d6-bb0f-ed1e0775bdb9",
   "metadata": {},
   "outputs": [
    {
     "name": "stdout",
     "output_type": "stream",
     "text": [
      "1 11\n",
      "2 22\n",
      "3 33\n",
      "str [1, 2, 3]\n",
      "(4, 5) 45\n",
      "<__main__.User object at 0x1116d1850> <__main__.User2 object at 0x1116d25d0>\n"
     ]
    }
   ],
   "source": [
    "for key, value in d.items():\n",
    "    print(key, value)"
   ]
  },
  {
   "cell_type": "code",
   "execution_count": 29,
   "id": "d59bf20a-6fe7-4a5d-a2d4-276b6c4f7cff",
   "metadata": {},
   "outputs": [
    {
     "name": "stdout",
     "output_type": "stream",
     "text": [
      "i=0, key=1, value=11\n",
      "i=1, key=2, value=22\n",
      "i=2, key=3, value=33\n",
      "i=3, key='str', value=[1, 2, 3]\n",
      "i=4, key=(4, 5), value='45'\n",
      "i=5, key=<__main__.User object at 0x1116d1850>, value=<__main__.User2 object at 0x1116d25d0>\n"
     ]
    }
   ],
   "source": [
    "for i, (key, value) in enumerate(d.items()):\n",
    "    print(f\"{i=}, {key=}, {value=}\")"
   ]
  },
  {
   "cell_type": "code",
   "execution_count": null,
   "id": "e8a4d219-a3d3-4ed5-bf71-0ef158007aa8",
   "metadata": {},
   "outputs": [],
   "source": []
  },
  {
   "cell_type": "markdown",
   "id": "3a6962ba-02a4-48dd-bd99-a5fbee59e6f7",
   "metadata": {},
   "source": [
    "# for для файла"
   ]
  },
  {
   "cell_type": "code",
   "execution_count": 36,
   "id": "737c7b3d-4230-4189-9bcd-b4a997ae0052",
   "metadata": {},
   "outputs": [],
   "source": [
    "with open(\"example\", \"w\") as f:\n",
    "    f.write(\"123\\n456\\n789\")"
   ]
  },
  {
   "cell_type": "code",
   "execution_count": 37,
   "id": "08d72b5a-e731-46c1-938f-92e6cd928d6d",
   "metadata": {},
   "outputs": [
    {
     "name": "stdout",
     "output_type": "stream",
     "text": [
      "123\n",
      "456\n",
      "789"
     ]
    }
   ],
   "source": [
    "!cat example"
   ]
  },
  {
   "cell_type": "code",
   "execution_count": 40,
   "id": "76cd3747-8b41-4488-a10c-840ccdd511bd",
   "metadata": {},
   "outputs": [
    {
     "name": "stdout",
     "output_type": "stream",
     "text": [
      "73\n"
     ]
    }
   ],
   "source": [
    "with open(\"example\", \"r\") as f:\n",
    "    print(f.fileno())\n",
    "    data = f.read()"
   ]
  },
  {
   "cell_type": "code",
   "execution_count": 41,
   "id": "26655d05-4961-425c-acd5-d9dfd8f6175e",
   "metadata": {},
   "outputs": [
    {
     "data": {
      "text/plain": [
       "'123\\n456\\n789'"
      ]
     },
     "execution_count": 41,
     "metadata": {},
     "output_type": "execute_result"
    }
   ],
   "source": [
    "data"
   ]
  },
  {
   "cell_type": "code",
   "execution_count": 42,
   "id": "b42eb62e-d0de-467a-b705-0001240640dc",
   "metadata": {},
   "outputs": [
    {
     "data": {
      "text/plain": [
       "['123\\n', '456\\n', '789']"
      ]
     },
     "execution_count": 42,
     "metadata": {},
     "output_type": "execute_result"
    }
   ],
   "source": [
    "with open(\"example\", \"r\") as f:\n",
    "    data = f.readlines()\n",
    "\n",
    "data"
   ]
  },
  {
   "cell_type": "code",
   "execution_count": 44,
   "id": "7a116fde-01d5-4e90-8921-ee5088521932",
   "metadata": {},
   "outputs": [
    {
     "name": "stdout",
     "output_type": "stream",
     "text": [
      "123\n",
      "456\n",
      "789\n"
     ]
    }
   ],
   "source": [
    "with open(\"example\", \"r\") as f:\n",
    "    for line in f:\n",
    "        print(line.strip())"
   ]
  },
  {
   "cell_type": "code",
   "execution_count": null,
   "id": "00cbc1cf-247f-4f7b-bd39-249302d572ed",
   "metadata": {},
   "outputs": [],
   "source": []
  },
  {
   "cell_type": "code",
   "execution_count": null,
   "id": "4ae31cbd-9ef7-448c-9442-e0db1a9b6306",
   "metadata": {},
   "outputs": [],
   "source": []
  },
  {
   "cell_type": "markdown",
   "id": "93634b72-33f8-4907-9ec4-32776428e962",
   "metadata": {},
   "source": [
    "# Iterator"
   ]
  },
  {
   "cell_type": "code",
   "execution_count": 47,
   "id": "03e388f3-eb69-4589-8951-a5964a83f365",
   "metadata": {},
   "outputs": [],
   "source": [
    "class SpecialIterator:\n",
    "    def __init__(self, limit):\n",
    "        self.limit = limit\n",
    "        self.counter = 0\n",
    "\n",
    "    def __iter__(self):\n",
    "        print(\"--- iter ----\")\n",
    "        return self\n",
    "\n",
    "    def __next__(self):\n",
    "        print(\"next\")\n",
    "        if self.counter < self.limit:\n",
    "            self.counter += 1\n",
    "            return self.counter\n",
    "        else:\n",
    "            raise StopIteration"
   ]
  },
  {
   "cell_type": "code",
   "execution_count": 48,
   "id": "b6c94d53-e369-4341-8114-c56701985036",
   "metadata": {},
   "outputs": [
    {
     "name": "stdout",
     "output_type": "stream",
     "text": [
      "--- iter ----\n",
      "next\n",
      "it=1\n",
      "next\n",
      "it=2\n",
      "next\n",
      "it=3\n",
      "next\n",
      "it=4\n",
      "next\n",
      "it=5\n",
      "next\n"
     ]
    }
   ],
   "source": [
    "for it in SpecialIterator(5):\n",
    "    print(f\"{it=}\")"
   ]
  },
  {
   "cell_type": "code",
   "execution_count": 50,
   "id": "fc9b665a-de60-4e12-a163-41902cd118e5",
   "metadata": {},
   "outputs": [],
   "source": [
    "spec = SpecialIterator(3)"
   ]
  },
  {
   "cell_type": "code",
   "execution_count": 51,
   "id": "6f3b29a0-0df1-4770-95f3-08c7ab574e62",
   "metadata": {},
   "outputs": [
    {
     "name": "stdout",
     "output_type": "stream",
     "text": [
      "--- iter ----\n"
     ]
    }
   ],
   "source": [
    "it_spec = iter(spec)"
   ]
  },
  {
   "cell_type": "code",
   "execution_count": 52,
   "id": "5e1035e2-0f44-4ce8-9cdc-e527239d55d3",
   "metadata": {},
   "outputs": [
    {
     "name": "stdout",
     "output_type": "stream",
     "text": [
      "next\n"
     ]
    },
    {
     "data": {
      "text/plain": [
       "1"
      ]
     },
     "execution_count": 52,
     "metadata": {},
     "output_type": "execute_result"
    }
   ],
   "source": [
    "next(it_spec)"
   ]
  },
  {
   "cell_type": "code",
   "execution_count": 53,
   "id": "cfdbb716-aa76-46f7-ace9-7bc3ff94d159",
   "metadata": {},
   "outputs": [
    {
     "name": "stdout",
     "output_type": "stream",
     "text": [
      "next\n"
     ]
    },
    {
     "data": {
      "text/plain": [
       "2"
      ]
     },
     "execution_count": 53,
     "metadata": {},
     "output_type": "execute_result"
    }
   ],
   "source": [
    "next(it_spec)"
   ]
  },
  {
   "cell_type": "code",
   "execution_count": 54,
   "id": "ce1ba96f-8e28-4acc-ada7-4bae3282296f",
   "metadata": {},
   "outputs": [
    {
     "name": "stdout",
     "output_type": "stream",
     "text": [
      "--- iter ----\n"
     ]
    }
   ],
   "source": [
    "it_spec_2 = iter(spec)"
   ]
  },
  {
   "cell_type": "code",
   "execution_count": 55,
   "id": "a43920a5-2f51-4e6f-a691-e494ebc3ca0d",
   "metadata": {},
   "outputs": [
    {
     "name": "stdout",
     "output_type": "stream",
     "text": [
      "next\n"
     ]
    },
    {
     "data": {
      "text/plain": [
       "3"
      ]
     },
     "execution_count": 55,
     "metadata": {},
     "output_type": "execute_result"
    }
   ],
   "source": [
    "next(it_spec_2)"
   ]
  },
  {
   "cell_type": "code",
   "execution_count": 56,
   "id": "3ca81324-513f-4444-87d2-51101aa2a0d4",
   "metadata": {},
   "outputs": [
    {
     "name": "stdout",
     "output_type": "stream",
     "text": [
      "next\n"
     ]
    },
    {
     "ename": "StopIteration",
     "evalue": "",
     "output_type": "error",
     "traceback": [
      "\u001b[0;31m---------------------------------------------------------------------------\u001b[0m",
      "\u001b[0;31mStopIteration\u001b[0m                             Traceback (most recent call last)",
      "Cell \u001b[0;32mIn[56], line 1\u001b[0m\n\u001b[0;32m----> 1\u001b[0m \u001b[38;5;28;43mnext\u001b[39;49m\u001b[43m(\u001b[49m\u001b[43mit_spec_2\u001b[49m\u001b[43m)\u001b[49m\n",
      "Cell \u001b[0;32mIn[47], line 16\u001b[0m, in \u001b[0;36mSpecialIterator.__next__\u001b[0;34m(self)\u001b[0m\n\u001b[1;32m     14\u001b[0m     \u001b[38;5;28;01mreturn\u001b[39;00m \u001b[38;5;28mself\u001b[39m\u001b[38;5;241m.\u001b[39mcounter\n\u001b[1;32m     15\u001b[0m \u001b[38;5;28;01melse\u001b[39;00m:\n\u001b[0;32m---> 16\u001b[0m     \u001b[38;5;28;01mraise\u001b[39;00m \u001b[38;5;167;01mStopIteration\u001b[39;00m\n",
      "\u001b[0;31mStopIteration\u001b[0m: "
     ]
    }
   ],
   "source": [
    "next(it_spec_2)"
   ]
  },
  {
   "cell_type": "code",
   "execution_count": 57,
   "id": "f1c1b583-60de-4b4d-8ebb-a879dda02260",
   "metadata": {},
   "outputs": [],
   "source": [
    "class SpecItems:\n",
    "    def __init__(self):\n",
    "        self._data = [11, 22, 33]\n",
    "\n",
    "    def __getitem__(self, key):\n",
    "        return self._data[key]"
   ]
  },
  {
   "cell_type": "code",
   "execution_count": 58,
   "id": "577a30c0-19cd-4eca-9896-6a59301cfbdb",
   "metadata": {},
   "outputs": [],
   "source": [
    "spec_items = SpecItems()"
   ]
  },
  {
   "cell_type": "code",
   "execution_count": 59,
   "id": "98f33a85-dea8-487a-bbbe-7fdc729e3ebc",
   "metadata": {},
   "outputs": [
    {
     "data": {
      "text/plain": [
       "22"
      ]
     },
     "execution_count": 59,
     "metadata": {},
     "output_type": "execute_result"
    }
   ],
   "source": [
    "spec_items[1]"
   ]
  },
  {
   "cell_type": "code",
   "execution_count": 60,
   "id": "c6831511-1af8-4595-b6f0-8beb963b8bc2",
   "metadata": {},
   "outputs": [
    {
     "data": {
      "text/plain": [
       "[11, 33]"
      ]
     },
     "execution_count": 60,
     "metadata": {},
     "output_type": "execute_result"
    }
   ],
   "source": [
    "spec_items[0::2]"
   ]
  },
  {
   "cell_type": "code",
   "execution_count": 61,
   "id": "58c04ec9-cfdc-448d-855e-e3c4a0af9ae0",
   "metadata": {},
   "outputs": [
    {
     "name": "stdout",
     "output_type": "stream",
     "text": [
      "11\n",
      "22\n",
      "33\n"
     ]
    }
   ],
   "source": [
    "for item in spec_items:\n",
    "    print(item)"
   ]
  },
  {
   "cell_type": "code",
   "execution_count": null,
   "id": "1d8d9a12-ff7d-4976-9806-bc29c8bd286b",
   "metadata": {},
   "outputs": [],
   "source": []
  },
  {
   "cell_type": "markdown",
   "id": "c6bc5134-2a5d-41ef-a7d9-99e5209646a5",
   "metadata": {},
   "source": [
    "# генератор"
   ]
  },
  {
   "cell_type": "code",
   "execution_count": 62,
   "id": "01b9fdf4-8ba1-42b0-9671-b96f4bc02e62",
   "metadata": {},
   "outputs": [],
   "source": [
    "def empty_gen():\n",
    "    print(\"run\")\n",
    "    if False:\n",
    "        yield\n",
    "    return 42\n",
    "\n",
    "gen = empty_gen()"
   ]
  },
  {
   "cell_type": "code",
   "execution_count": 63,
   "id": "fc24e4e2-d5c3-4494-ac5c-b33719cb6cb5",
   "metadata": {},
   "outputs": [
    {
     "data": {
      "text/plain": [
       "generator"
      ]
     },
     "execution_count": 63,
     "metadata": {},
     "output_type": "execute_result"
    }
   ],
   "source": [
    "type(gen)"
   ]
  },
  {
   "cell_type": "code",
   "execution_count": 65,
   "id": "45741f5d-d026-4f0d-a1bf-8379613546ef",
   "metadata": {},
   "outputs": [
    {
     "name": "stdout",
     "output_type": "stream",
     "text": [
      "run\n"
     ]
    },
    {
     "ename": "StopIteration",
     "evalue": "42",
     "output_type": "error",
     "traceback": [
      "\u001b[0;31m---------------------------------------------------------------------------\u001b[0m",
      "\u001b[0;31mStopIteration\u001b[0m                             Traceback (most recent call last)",
      "Cell \u001b[0;32mIn[65], line 1\u001b[0m\n\u001b[0;32m----> 1\u001b[0m \u001b[38;5;28;43mnext\u001b[39;49m\u001b[43m(\u001b[49m\u001b[43mgen\u001b[49m\u001b[43m)\u001b[49m\n",
      "\u001b[0;31mStopIteration\u001b[0m: 42"
     ]
    }
   ],
   "source": [
    "next(gen)"
   ]
  },
  {
   "cell_type": "code",
   "execution_count": null,
   "id": "9aebd548-2090-4ece-8b4c-cc117923dd5a",
   "metadata": {},
   "outputs": [],
   "source": []
  },
  {
   "cell_type": "code",
   "execution_count": null,
   "id": "482f4c6b-e63f-4cd5-89f0-93e1f241c9b5",
   "metadata": {},
   "outputs": [],
   "source": []
  },
  {
   "cell_type": "code",
   "execution_count": 66,
   "id": "374166f0-69c6-47fb-afa9-ca42e7599f44",
   "metadata": {},
   "outputs": [],
   "source": [
    "def gen_step(limit):\n",
    "    print(\"start\", limit)\n",
    "\n",
    "    count = 0\n",
    "\n",
    "    while count < limit:\n",
    "        print(\"yield\", count)\n",
    "        yield count\n",
    "\n",
    "        print(\"after yield\", count)\n",
    "        count += 1\n",
    "\n",
    "\n",
    "steps = gen_step(3)"
   ]
  },
  {
   "cell_type": "code",
   "execution_count": 67,
   "id": "39c8624c-545e-4f3a-9ea4-f5baea2e146f",
   "metadata": {},
   "outputs": [
    {
     "name": "stdout",
     "output_type": "stream",
     "text": [
      "start 3\n",
      "yield 0\n"
     ]
    },
    {
     "data": {
      "text/plain": [
       "0"
      ]
     },
     "execution_count": 67,
     "metadata": {},
     "output_type": "execute_result"
    }
   ],
   "source": [
    "next(steps)"
   ]
  },
  {
   "cell_type": "code",
   "execution_count": 68,
   "id": "9ebceb7a-03ce-4eb1-a768-d99097513939",
   "metadata": {},
   "outputs": [
    {
     "data": {
      "text/plain": [
       "<generator object gen_step at 0x11226b030>"
      ]
     },
     "execution_count": 68,
     "metadata": {},
     "output_type": "execute_result"
    }
   ],
   "source": [
    "steps"
   ]
  },
  {
   "cell_type": "code",
   "execution_count": 69,
   "id": "ff3b3b1d-d816-4b6b-8200-ed761ef43fa3",
   "metadata": {},
   "outputs": [
    {
     "name": "stdout",
     "output_type": "stream",
     "text": [
      "after yield 0\n",
      "yield 1\n"
     ]
    },
    {
     "data": {
      "text/plain": [
       "1"
      ]
     },
     "execution_count": 69,
     "metadata": {},
     "output_type": "execute_result"
    }
   ],
   "source": [
    "next(steps)"
   ]
  },
  {
   "cell_type": "code",
   "execution_count": 70,
   "id": "be7efece-a1b7-49f5-92fd-6103554767d3",
   "metadata": {},
   "outputs": [
    {
     "name": "stdout",
     "output_type": "stream",
     "text": [
      "after yield 1\n",
      "yield 2\n"
     ]
    },
    {
     "data": {
      "text/plain": [
       "2"
      ]
     },
     "execution_count": 70,
     "metadata": {},
     "output_type": "execute_result"
    }
   ],
   "source": [
    "next(steps)"
   ]
  },
  {
   "cell_type": "code",
   "execution_count": 71,
   "id": "7369265c-a594-43a4-8d3b-d193135df59e",
   "metadata": {},
   "outputs": [
    {
     "name": "stdout",
     "output_type": "stream",
     "text": [
      "after yield 2\n"
     ]
    },
    {
     "ename": "StopIteration",
     "evalue": "",
     "output_type": "error",
     "traceback": [
      "\u001b[0;31m---------------------------------------------------------------------------\u001b[0m",
      "\u001b[0;31mStopIteration\u001b[0m                             Traceback (most recent call last)",
      "Cell \u001b[0;32mIn[71], line 1\u001b[0m\n\u001b[0;32m----> 1\u001b[0m \u001b[38;5;28;43mnext\u001b[39;49m\u001b[43m(\u001b[49m\u001b[43msteps\u001b[49m\u001b[43m)\u001b[49m\n",
      "\u001b[0;31mStopIteration\u001b[0m: "
     ]
    }
   ],
   "source": [
    "next(steps)"
   ]
  },
  {
   "cell_type": "code",
   "execution_count": 72,
   "id": "567342d2-5d8f-4009-ad4b-c2baff324afd",
   "metadata": {},
   "outputs": [
    {
     "name": "stdout",
     "output_type": "stream",
     "text": [
      "start 3\n",
      "yield 0\n",
      "0\n",
      "after yield 0\n",
      "yield 1\n",
      "1\n",
      "after yield 1\n",
      "yield 2\n",
      "2\n",
      "after yield 2\n"
     ]
    }
   ],
   "source": [
    "for item in  gen_step(3):\n",
    "    print(item)"
   ]
  },
  {
   "cell_type": "code",
   "execution_count": 73,
   "id": "4f2962dc-009e-415a-92c9-bdefba4e48a6",
   "metadata": {},
   "outputs": [],
   "source": [
    "it = iter([1, 2, 3, 4, 5])"
   ]
  },
  {
   "cell_type": "code",
   "execution_count": 74,
   "id": "937de8b4-91c6-4ffa-a2a0-c87d0e0f4ccc",
   "metadata": {},
   "outputs": [
    {
     "name": "stdout",
     "output_type": "stream",
     "text": [
      "<list_iterator object at 0x111c6b610>\n"
     ]
    }
   ],
   "source": [
    "print(it)"
   ]
  },
  {
   "cell_type": "code",
   "execution_count": 75,
   "id": "8811984f-35a0-42b2-976a-9219e62e1511",
   "metadata": {},
   "outputs": [
    {
     "data": {
      "text/plain": [
       "(1, 2, 3)"
      ]
     },
     "execution_count": 75,
     "metadata": {},
     "output_type": "execute_result"
    }
   ],
   "source": [
    "next(it), next(it), next(it)"
   ]
  },
  {
   "cell_type": "code",
   "execution_count": 76,
   "id": "29fa6304-0e2a-4da0-a3c0-a50fc70980b2",
   "metadata": {},
   "outputs": [
    {
     "name": "stdout",
     "output_type": "stream",
     "text": [
      "1 2 3\n"
     ]
    }
   ],
   "source": [
    "lst = [1, 2, 3, 4, 5]\n",
    "it = iter(lst)\n",
    "\n",
    "print(next(it), next(it), next(it))\n",
    "\n",
    "lst.insert(2, -1)\n",
    "lst.insert(0, -1)"
   ]
  },
  {
   "cell_type": "code",
   "execution_count": 78,
   "id": "382adceb-9c8a-4e25-a36b-fe340d56a54d",
   "metadata": {},
   "outputs": [
    {
     "data": {
      "text/plain": [
       "-1"
      ]
     },
     "execution_count": 78,
     "metadata": {},
     "output_type": "execute_result"
    }
   ],
   "source": [
    "next(it)"
   ]
  },
  {
   "cell_type": "code",
   "execution_count": 81,
   "id": "b1357991-1104-434c-a018-8176f7c5c201",
   "metadata": {},
   "outputs": [],
   "source": [
    "lst = [1, 2, 3, 4, 5]"
   ]
  },
  {
   "cell_type": "code",
   "execution_count": 82,
   "id": "d6ef448e-66e5-438e-bffd-69bec7def4a5",
   "metadata": {},
   "outputs": [
    {
     "name": "stdout",
     "output_type": "stream",
     "text": [
      "1\n",
      "3\n",
      "5\n"
     ]
    }
   ],
   "source": [
    "for i in lst:\n",
    "    print(i)\n",
    "    lst.pop(0)"
   ]
  },
  {
   "cell_type": "code",
   "execution_count": null,
   "id": "fd0b8f8d-17ff-42e8-9d60-51309f5a4ddd",
   "metadata": {},
   "outputs": [],
   "source": []
  },
  {
   "cell_type": "code",
   "execution_count": 91,
   "id": "0dc4d226-556c-406d-942d-3e78d1daf84a",
   "metadata": {},
   "outputs": [
    {
     "data": {
      "text/plain": [
       "(18122226, 4294967326)"
      ]
     },
     "execution_count": 91,
     "metadata": {},
     "output_type": "execute_result"
    }
   ],
   "source": [
    "len(range(-30, 2 ** 32, 237)), len(range(-30, 2 ** 32))"
   ]
  },
  {
   "cell_type": "code",
   "execution_count": null,
   "id": "9b18283c-3c9b-4089-a759-d4d4192ea80c",
   "metadata": {},
   "outputs": [],
   "source": []
  },
  {
   "cell_type": "code",
   "execution_count": 84,
   "id": "2c4e49f1-0f54-4d8d-8aa0-593cdcab47d7",
   "metadata": {},
   "outputs": [
    {
     "name": "stdout",
     "output_type": "stream",
     "text": [
      "start 10\n",
      "yield 0\n",
      "after yield 0\n",
      "yield 1\n",
      "after yield 1\n",
      "yield 2\n",
      "after yield 2\n",
      "yield 3\n",
      "after yield 3\n",
      "yield 4\n",
      "after yield 4\n",
      "yield 5\n",
      "after yield 5\n",
      "yield 6\n",
      "after yield 6\n",
      "yield 7\n",
      "after yield 7\n",
      "yield 8\n",
      "after yield 8\n",
      "yield 9\n",
      "after yield 9\n",
      "[(0, 1), (2, 9), (4, 25), (6, 49), (8, 81)]\n"
     ]
    }
   ],
   "source": [
    "n = iter(range(10))\n",
    "n = gen_step(10)\n",
    "\n",
    "result = list(\n",
    "    zip(\n",
    "        n,\n",
    "        map(lambda x: x ** 2, n)\n",
    "    )\n",
    ")\n",
    "print(result)"
   ]
  },
  {
   "cell_type": "code",
   "execution_count": 87,
   "id": "a3442924-5b7e-40a8-b005-df8bb2c9e793",
   "metadata": {},
   "outputs": [],
   "source": [
    "n = gen_step(10)"
   ]
  },
  {
   "cell_type": "code",
   "execution_count": 88,
   "id": "edc212ee-4a2b-4a2f-8d40-35c428eabb83",
   "metadata": {},
   "outputs": [
    {
     "ename": "TypeError",
     "evalue": "object of type 'generator' has no len()",
     "output_type": "error",
     "traceback": [
      "\u001b[0;31m---------------------------------------------------------------------------\u001b[0m",
      "\u001b[0;31mTypeError\u001b[0m                                 Traceback (most recent call last)",
      "Cell \u001b[0;32mIn[88], line 1\u001b[0m\n\u001b[0;32m----> 1\u001b[0m \u001b[38;5;28;43mlen\u001b[39;49m\u001b[43m(\u001b[49m\u001b[43mn\u001b[49m\u001b[43m)\u001b[49m\n",
      "\u001b[0;31mTypeError\u001b[0m: object of type 'generator' has no len()"
     ]
    }
   ],
   "source": [
    "len(n)"
   ]
  },
  {
   "cell_type": "code",
   "execution_count": 89,
   "id": "f18b5338-d3bd-4b83-a19d-15de8b11b9ba",
   "metadata": {},
   "outputs": [
    {
     "ename": "TypeError",
     "evalue": "object of type 'SpecialIterator' has no len()",
     "output_type": "error",
     "traceback": [
      "\u001b[0;31m---------------------------------------------------------------------------\u001b[0m",
      "\u001b[0;31mTypeError\u001b[0m                                 Traceback (most recent call last)",
      "Cell \u001b[0;32mIn[89], line 1\u001b[0m\n\u001b[0;32m----> 1\u001b[0m \u001b[38;5;28;43mlen\u001b[39;49m\u001b[43m(\u001b[49m\u001b[43mSpecialIterator\u001b[49m\u001b[43m(\u001b[49m\u001b[38;5;241;43m5\u001b[39;49m\u001b[43m)\u001b[49m\u001b[43m)\u001b[49m\n",
      "\u001b[0;31mTypeError\u001b[0m: object of type 'SpecialIterator' has no len()"
     ]
    }
   ],
   "source": [
    "len(SpecialIterator(5))"
   ]
  },
  {
   "cell_type": "code",
   "execution_count": null,
   "id": "b32fe9b5-3951-4fa8-8ac7-655fbf83cc9f",
   "metadata": {},
   "outputs": [],
   "source": []
  }
 ],
 "metadata": {
  "kernelspec": {
   "display_name": "Python 3 (ipykernel)",
   "language": "python",
   "name": "python3"
  },
  "language_info": {
   "codemirror_mode": {
    "name": "ipython",
    "version": 3
   },
   "file_extension": ".py",
   "mimetype": "text/x-python",
   "name": "python",
   "nbconvert_exporter": "python",
   "pygments_lexer": "ipython3",
   "version": "3.12.5"
  }
 },
 "nbformat": 4,
 "nbformat_minor": 5
}
